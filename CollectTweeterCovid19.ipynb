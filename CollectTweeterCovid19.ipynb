{
 "cells": [
  {
   "cell_type": "markdown",
   "id": "split-burlington",
   "metadata": {},
   "source": [
    "## 1 Importando Paquetes"
   ]
  },
  {
   "cell_type": "code",
   "execution_count": 1,
   "id": "apparent-session",
   "metadata": {},
   "outputs": [],
   "source": [
    "import os\n",
    "import tweepy as tw\n",
    "import pandas as pd\n",
    "from tqdm import tqdm, notebook"
   ]
  },
  {
   "cell_type": "code",
   "execution_count": 2,
   "id": "automated-packing",
   "metadata": {},
   "outputs": [],
   "source": [
    "pd.set_option('display.max_columns', None)\n",
    "pd.set_option('display.max_rows', None)\n",
    "pd.set_option('display.max_colwidth', None)\n",
    "pd.set_option('display.width', None)"
   ]
  },
  {
   "cell_type": "markdown",
   "id": "vocal-shock",
   "metadata": {},
   "source": [
    "## 2 Autenticacion Twitter API"
   ]
  },
  {
   "cell_type": "code",
   "execution_count": 3,
   "id": "cordless-character",
   "metadata": {},
   "outputs": [],
   "source": [
    "consumer_api_key = \"xxxxxxxxxxxxxxxxxxxxxxxxxxxxx\"\n",
    "consumer_api_secret = \"xxxxxxxxxxxxxxxxxxxxxxxxxxxxx\""
   ]
  },
  {
   "cell_type": "code",
   "execution_count": 4,
   "id": "according-month",
   "metadata": {},
   "outputs": [],
   "source": [
    "auth = tw.OAuthHandler(consumer_api_key, consumer_api_secret)"
   ]
  },
  {
   "cell_type": "code",
   "execution_count": 5,
   "id": "compact-texture",
   "metadata": {},
   "outputs": [],
   "source": [
    "api = tw.API(auth, wait_on_rate_limit=True)"
   ]
  },
  {
   "cell_type": "markdown",
   "id": "australian-chemical",
   "metadata": {},
   "source": [
    "## 3 Consulta en los Tweets\n",
    "\n",
    "### 3.1 Definiendo la consulta"
   ]
  },
  {
   "cell_type": "code",
   "execution_count": 6,
   "id": "sorted-heating",
   "metadata": {},
   "outputs": [],
   "source": [
    "search_words = \"#covid19 -filter:retweets\"\n",
    "date_since = \"2020-03-01\""
   ]
  },
  {
   "cell_type": "code",
   "execution_count": 11,
   "id": "seven-transfer",
   "metadata": {},
   "outputs": [],
   "source": [
    "# Colectando tweets\n",
    "tweets = tw.Cursor(api.search,\n",
    "                  q = search_words,\n",
    "                  lang = \"en\",\n",
    "                  since = date_since).items(1000)"
   ]
  },
  {
   "cell_type": "markdown",
   "id": "french-management",
   "metadata": {},
   "source": [
    "### 3.2 Recuperando los tweets"
   ]
  },
  {
   "cell_type": "code",
   "execution_count": 12,
   "id": "later-institution",
   "metadata": {},
   "outputs": [
    {
     "name": "stderr",
     "output_type": "stream",
     "text": [
      "1000it [01:30, 11.07it/s]\n"
     ]
    }
   ],
   "source": [
    "tweets_copy = []\n",
    "for tweet in tqdm(tweets):\n",
    "    tweets_copy.append(tweet)"
   ]
  },
  {
   "cell_type": "code",
   "execution_count": 13,
   "id": "neural-cleaning",
   "metadata": {},
   "outputs": [
    {
     "name": "stdout",
     "output_type": "stream",
     "text": [
      "nuevos tweets recuperados: 1000\n"
     ]
    }
   ],
   "source": [
    "print(f\"nuevos tweets recuperados: {len(tweets_copy)}\")"
   ]
  },
  {
   "cell_type": "markdown",
   "id": "present-monroe",
   "metadata": {},
   "source": [
    "## 4. Complete el conjunto de datos"
   ]
  },
  {
   "cell_type": "code",
   "execution_count": 14,
   "id": "standing-delaware",
   "metadata": {},
   "outputs": [
    {
     "name": "stderr",
     "output_type": "stream",
     "text": [
      "100%|██████████| 1000/1000 [16:38<00:00,  1.00it/s] \n"
     ]
    }
   ],
   "source": [
    "tweets_df = pd.DataFrame()\n",
    "for tweet in tqdm(tweets_copy):\n",
    "    hashtags = []\n",
    "    try:\n",
    "        for hashtag in tweet.entities[\"hashtags\"]:\n",
    "            hashtags.append(hashtag[\"text\"])\n",
    "        text = api.get_status(id=tweet.id, tweet_mode='extended').full_text\n",
    "    except:\n",
    "        pass\n",
    "    tweets_df = tweets_df.append(pd.DataFrame({'user_name': tweet.user.name,\n",
    "                                               'user_location': tweet.user.location,\\\n",
    "                                               'user_description': tweet.user.description,\n",
    "                                               'user_created': tweet.user.created_at,\n",
    "                                               'user_followers': tweet.user.followers_count,\n",
    "                                               'user_friends': tweet.user.friends_count,\n",
    "                                               'user_favourites': tweet.user.favourites_count,\n",
    "                                               'user_verified': tweet.user.verified,\n",
    "                                               'date': tweet.created_at,\n",
    "                                               'text': text, \n",
    "                                               'hashtags': [hashtags if hashtags else None],\n",
    "                                               'source': tweet.source,\n",
    "                                               'is_retweet': tweet.retweeted}, index=[0]))"
   ]
  },
  {
   "cell_type": "code",
   "execution_count": 15,
   "id": "improved-playing",
   "metadata": {},
   "outputs": [
    {
     "data": {
      "text/html": [
       "<div>\n",
       "<style scoped>\n",
       "    .dataframe tbody tr th:only-of-type {\n",
       "        vertical-align: middle;\n",
       "    }\n",
       "\n",
       "    .dataframe tbody tr th {\n",
       "        vertical-align: top;\n",
       "    }\n",
       "\n",
       "    .dataframe thead th {\n",
       "        text-align: right;\n",
       "    }\n",
       "</style>\n",
       "<table border=\"1\" class=\"dataframe\">\n",
       "  <thead>\n",
       "    <tr style=\"text-align: right;\">\n",
       "      <th></th>\n",
       "      <th>user_name</th>\n",
       "      <th>user_location</th>\n",
       "      <th>user_description</th>\n",
       "      <th>user_created</th>\n",
       "      <th>user_followers</th>\n",
       "      <th>user_friends</th>\n",
       "      <th>user_favourites</th>\n",
       "      <th>user_verified</th>\n",
       "      <th>date</th>\n",
       "      <th>text</th>\n",
       "      <th>hashtags</th>\n",
       "      <th>source</th>\n",
       "      <th>is_retweet</th>\n",
       "    </tr>\n",
       "  </thead>\n",
       "  <tbody>\n",
       "    <tr>\n",
       "      <th>0</th>\n",
       "      <td>Iranian Community Romania</td>\n",
       "      <td></td>\n",
       "      <td></td>\n",
       "      <td>2020-06-10 17:13:38</td>\n",
       "      <td>573</td>\n",
       "      <td>1138</td>\n",
       "      <td>18205</td>\n",
       "      <td>False</td>\n",
       "      <td>2021-03-29 10:27:17</td>\n",
       "      <td>#Iran-#Covid19 \"#vaccination\"a weapon to eradicate rebellion generation.https://t.co/gE6T414G6z\\n.@AlHadath.@handelsblatt.@I24News.@nytimes.@Telegraph.@BBCWorld.@ntvde.@FoxNews.@thehill.@el_pais.@Corriere.@TheGardianNews.@voz_populi.@TheSun.@Politico.@expressen.@SZ.@IrishTime</td>\n",
       "      <td>[Iran, Covid19, vaccination]</td>\n",
       "      <td>Twitter Web App</td>\n",
       "      <td>False</td>\n",
       "    </tr>\n",
       "    <tr>\n",
       "      <th>0</th>\n",
       "      <td>Annalisa Klebers</td>\n",
       "      <td>New York, USA</td>\n",
       "      <td>Anchor @News12NJ, @News12CT, @AlticeUSA Email: Annalisa.Klebers@News12.com</td>\n",
       "      <td>2018-10-15 17:29:13</td>\n",
       "      <td>948</td>\n",
       "      <td>453</td>\n",
       "      <td>3626</td>\n",
       "      <td>False</td>\n",
       "      <td>2021-03-29 10:27:05</td>\n",
       "      <td>COVID ALERT: Draft of WHO-China report obtained by the Associated Press says that COVID-19 likely spread from animals to humans and that a lab leak “extremely unlikely.” \\n#COVID19 #Coronavirus #WHO \\n@News12CT https://t.co/iTmD22GnSo</td>\n",
       "      <td>None</td>\n",
       "      <td>Twitter for iPhone</td>\n",
       "      <td>False</td>\n",
       "    </tr>\n",
       "    <tr>\n",
       "      <th>0</th>\n",
       "      <td>Radio Misfits</td>\n",
       "      <td>United States</td>\n",
       "      <td>Great Talk Radio Isn't Dead, It Just Moved To A Better Place...\\n\\nShows availalbe almost everywhere you find podcasts, just search for 'Radio Misfits'</td>\n",
       "      <td>2014-05-24 15:30:03</td>\n",
       "      <td>23773</td>\n",
       "      <td>19707</td>\n",
       "      <td>16037</td>\n",
       "      <td>False</td>\n",
       "      <td>2021-03-29 10:27:02</td>\n",
       "      <td>#TheGameShowShow EP102: PATIENCE IS A VIRTUE w/ @peoplecallmeJAZ @andersonlawfer @JohnnyMoDigital \\n\\n#NSFWAF #Chicago #Comedy #TechnicalDifficulties #JohnnyMoDoesTheNewsForYou #Podcast #ChakaKhan #COVID19 #AdultsOnly #MoreProfanity #AndStuff https://t.co/6F4gPjeld0</td>\n",
       "      <td>[TheGameShowShow, NSFWAF]</td>\n",
       "      <td>SimplyCast</td>\n",
       "      <td>False</td>\n",
       "    </tr>\n",
       "    <tr>\n",
       "      <th>0</th>\n",
       "      <td>phoebesaid</td>\n",
       "      <td>Detroit, MI</td>\n",
       "      <td>Detroit Free Press autos reporter covering people + products + supply chain. Tips: phoward@freepress.com. She/Her. Alum: @mizzou @dmregister @mcclatchy @TimeInc</td>\n",
       "      <td>2012-08-11 06:11:35</td>\n",
       "      <td>3381</td>\n",
       "      <td>772</td>\n",
       "      <td>11754</td>\n",
       "      <td>True</td>\n",
       "      <td>2021-03-29 10:27:01</td>\n",
       "      <td>Exclusive: @UAW holds strong in 2020 among dues-paying members despite #COVID19 and scandals involving 2 past presidents. Strike fund up.\\n\\nhttps://t.co/FtttB6FtTZ via @freep @freepautos @UAW @Ford @GM @Stellantis @UniforTheUnion @Columbia @Harvard @DefUnionPhila</td>\n",
       "      <td>[COVID19]</td>\n",
       "      <td>Twitter Web App</td>\n",
       "      <td>False</td>\n",
       "    </tr>\n",
       "    <tr>\n",
       "      <th>0</th>\n",
       "      <td>Shahid Anwar</td>\n",
       "      <td></td>\n",
       "      <td></td>\n",
       "      <td>2013-08-19 17:53:54</td>\n",
       "      <td>15</td>\n",
       "      <td>159</td>\n",
       "      <td>394</td>\n",
       "      <td>False</td>\n",
       "      <td>2021-03-29 10:26:53</td>\n",
       "      <td>@GHMCOnline I noticed that in many localities of old city still waiting for authority to remove garbage. During this pandemic it's not your responsibility to Abide by #COVID19 protocols.\\n@asadowaisi \\n@NR_abuaimal \\n@kcrtrs</td>\n",
       "      <td>None</td>\n",
       "      <td>Twitter for Android</td>\n",
       "      <td>False</td>\n",
       "    </tr>\n",
       "  </tbody>\n",
       "</table>\n",
       "</div>"
      ],
      "text/plain": [
       "                   user_name  user_location  \\\n",
       "0  Iranian Community Romania                  \n",
       "0           Annalisa Klebers  New York, USA   \n",
       "0              Radio Misfits  United States   \n",
       "0                 phoebesaid    Detroit, MI   \n",
       "0               Shahid Anwar                  \n",
       "\n",
       "                                                                                                                                                   user_description  \\\n",
       "0                                                                                                                                                                     \n",
       "0                                                                                        Anchor @News12NJ, @News12CT, @AlticeUSA Email: Annalisa.Klebers@News12.com   \n",
       "0           Great Talk Radio Isn't Dead, It Just Moved To A Better Place...\\n\\nShows availalbe almost everywhere you find podcasts, just search for 'Radio Misfits'   \n",
       "0  Detroit Free Press autos reporter covering people + products + supply chain. Tips: phoward@freepress.com. She/Her. Alum: @mizzou @dmregister @mcclatchy @TimeInc   \n",
       "0                                                                                                                                                                     \n",
       "\n",
       "         user_created  user_followers  user_friends  user_favourites  \\\n",
       "0 2020-06-10 17:13:38             573          1138            18205   \n",
       "0 2018-10-15 17:29:13             948           453             3626   \n",
       "0 2014-05-24 15:30:03           23773         19707            16037   \n",
       "0 2012-08-11 06:11:35            3381           772            11754   \n",
       "0 2013-08-19 17:53:54              15           159              394   \n",
       "\n",
       "   user_verified                date  \\\n",
       "0          False 2021-03-29 10:27:17   \n",
       "0          False 2021-03-29 10:27:05   \n",
       "0          False 2021-03-29 10:27:02   \n",
       "0           True 2021-03-29 10:27:01   \n",
       "0          False 2021-03-29 10:26:53   \n",
       "\n",
       "                                                                                                                                                                                                                                                                                   text  \\\n",
       "0  #Iran-#Covid19 \"#vaccination\"a weapon to eradicate rebellion generation.https://t.co/gE6T414G6z\\n.@AlHadath.@handelsblatt.@I24News.@nytimes.@Telegraph.@BBCWorld.@ntvde.@FoxNews.@thehill.@el_pais.@Corriere.@TheGardianNews.@voz_populi.@TheSun.@Politico.@expressen.@SZ.@IrishTime   \n",
       "0                                            COVID ALERT: Draft of WHO-China report obtained by the Associated Press says that COVID-19 likely spread from animals to humans and that a lab leak “extremely unlikely.” \\n#COVID19 #Coronavirus #WHO \\n@News12CT https://t.co/iTmD22GnSo   \n",
       "0            #TheGameShowShow EP102: PATIENCE IS A VIRTUE w/ @peoplecallmeJAZ @andersonlawfer @JohnnyMoDigital \\n\\n#NSFWAF #Chicago #Comedy #TechnicalDifficulties #JohnnyMoDoesTheNewsForYou #Podcast #ChakaKhan #COVID19 #AdultsOnly #MoreProfanity #AndStuff https://t.co/6F4gPjeld0   \n",
       "0              Exclusive: @UAW holds strong in 2020 among dues-paying members despite #COVID19 and scandals involving 2 past presidents. Strike fund up.\\n\\nhttps://t.co/FtttB6FtTZ via @freep @freepautos @UAW @Ford @GM @Stellantis @UniforTheUnion @Columbia @Harvard @DefUnionPhila   \n",
       "0                                                      @GHMCOnline I noticed that in many localities of old city still waiting for authority to remove garbage. During this pandemic it's not your responsibility to Abide by #COVID19 protocols.\\n@asadowaisi \\n@NR_abuaimal \\n@kcrtrs   \n",
       "\n",
       "                       hashtags               source  is_retweet  \n",
       "0  [Iran, Covid19, vaccination]      Twitter Web App       False  \n",
       "0                          None   Twitter for iPhone       False  \n",
       "0     [TheGameShowShow, NSFWAF]           SimplyCast       False  \n",
       "0                     [COVID19]      Twitter Web App       False  \n",
       "0                          None  Twitter for Android       False  "
      ]
     },
     "execution_count": 15,
     "metadata": {},
     "output_type": "execute_result"
    }
   ],
   "source": [
    "tweets_df.head()"
   ]
  },
  {
   "cell_type": "markdown",
   "id": "premier-classic",
   "metadata": {},
   "source": [
    "## 5. Guardando los Datos"
   ]
  },
  {
   "cell_type": "markdown",
   "id": "identified-round",
   "metadata": {},
   "source": [
    "### 5.1 Leyendo .csv pasado"
   ]
  },
  {
   "cell_type": "code",
   "execution_count": 21,
   "id": "organic-huntington",
   "metadata": {},
   "outputs": [],
   "source": [
    "#Guardar la primera vez\n",
    "tweets_df.to_csv(r'C:\\Users\\covid19_tweets.csv',index = False, header=True)"
   ]
  },
  {
   "cell_type": "code",
   "execution_count": 24,
   "id": "placed-bangkok",
   "metadata": {},
   "outputs": [],
   "source": [
    "tweets_old_df = pd.read_csv(\"covid19_tweets.csv\")\n",
    "print(f\"past tweets: {tweets_old_df.shape}\")"
   ]
  },
  {
   "cell_type": "markdown",
   "id": "blessed-usage",
   "metadata": {},
   "source": [
    "### 5.2 Juntando .csv pasado y presente"
   ]
  },
  {
   "cell_type": "code",
   "execution_count": 25,
   "id": "written-enclosure",
   "metadata": {},
   "outputs": [],
   "source": [
    "tweets_all_df = pd.concat([tweets_old_df, tweets_df], axis=0)\n",
    "print(f\"new tweets: {tweets_df.shape[0]} past tweets: {tweets_old_df.shape[0]} all tweets: {tweets_all_df.shape[0]}\")"
   ]
  },
  {
   "cell_type": "markdown",
   "id": "nominated-merit",
   "metadata": {},
   "source": [
    "### 5.3 Eliminando Duplicados"
   ]
  },
  {
   "cell_type": "code",
   "execution_count": null,
   "id": "alive-success",
   "metadata": {},
   "outputs": [],
   "source": [
    "tweets_all_df.drop_duplicates(subset = [\"user_name\", \"date\", \"text\"], inplace=True)\n",
    "print(f\"all tweets: {tweets_all_df.shape}\")"
   ]
  },
  {
   "cell_type": "markdown",
   "id": "south-scout",
   "metadata": {},
   "source": [
    "### 5.4 Exportando .csv "
   ]
  },
  {
   "cell_type": "code",
   "execution_count": null,
   "id": "rising-cologne",
   "metadata": {},
   "outputs": [],
   "source": [
    "tweets_all_df.to_csv(\"covid19_tweets.csv\", index=False)"
   ]
  }
 ],
 "metadata": {
  "kernelspec": {
   "display_name": "Python 3",
   "language": "python",
   "name": "python3"
  },
  "language_info": {
   "codemirror_mode": {
    "name": "ipython",
    "version": 3
   },
   "file_extension": ".py",
   "mimetype": "text/x-python",
   "name": "python",
   "nbconvert_exporter": "python",
   "pygments_lexer": "ipython3",
   "version": "3.7.9"
  }
 },
 "nbformat": 4,
 "nbformat_minor": 5
}
